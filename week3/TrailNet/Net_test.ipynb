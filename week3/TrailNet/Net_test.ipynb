{
 "cells": [
  {
   "cell_type": "markdown",
   "metadata": {},
   "source": [
    "# Import Libraries"
   ]
  },
  {
   "cell_type": "code",
   "execution_count": 1,
   "metadata": {},
   "outputs": [],
   "source": [
    "import torch\n",
    "import torch.nn as nn\n",
    "from torchvision import datasets ,transforms\n",
    "from matplotlib import pyplot as plt\n",
    "import numpy as np\n",
    "import matplotlib.pyplot as plt\n",
    "import torch.optim as optim\n",
    "from torch.autograd import Variable\n",
    "import torchvision"
   ]
  },
  {
   "cell_type": "markdown",
   "metadata": {},
   "source": [
    "# Load net and predict"
   ]
  },
  {
   "cell_type": "code",
   "execution_count": null,
   "metadata": {
    "scrolled": true
   },
   "outputs": [],
   "source": [
    "# First you need to create a model to load state_dict\n",
    "class Temp_Model(nn.Module):\n",
    "    ####################################################\n",
    "    #                                                  #\n",
    "    #                                                  #\n",
    "    #                                                  #\n",
    "    #                                                  #\n",
    "    #                                                  #\n",
    "    #                                                  #\n",
    "    #                                                  #\n",
    "    #             define a cnn structure               #\n",
    "    #                                                  #\n",
    "    #                                                  #\n",
    "    #                                                  #\n",
    "    #                                                  #\n",
    "    #                                                  #\n",
    "    #                                                  #\n",
    "    #                                                  #\n",
    "    #                                                  #\n",
    "    #                                                  #\n",
    "    ####################################################\n",
    "    def forward(self, x):\n",
    "    ####################################################\n",
    "    #                                                  #\n",
    "    #                                                  #\n",
    "    #             define a cnn structure               #\n",
    "    #                                                  #\n",
    "    #                                                  #\n",
    "    ####################################################\n",
    "\n",
    "model = Temp_Model().cuda()\n",
    "###############################\n",
    "#        load state_dict      #\n",
    "###############################\n",
    "\n",
    "test_data = datasets.ImageFolder(\n",
    "    'Lane_data/test_data',\n",
    "    transform = transforms.Compose([transforms.ToTensor()])                         \n",
    ")\n",
    "test_single_loader = torch.utils.data.DataLoader(test_data, batch_size=1,shuffle=True)\n",
    "test_loader = torch.utils.data.DataLoader(test_data, batch_size=20,shuffle=True)\n",
    "\n",
    "def imshow(img):\n",
    "    img = img / 2 + 0.5     # unnormalize\n",
    "    npimg = img.cpu().numpy()\n",
    "    plt.figure(figsize=(5,5))\n",
    "    plt.imshow(np.transpose(npimg, (1, 2, 0)))\n",
    "\n",
    "dataiter = iter(test_single_loader)\n",
    "images, labels = dataiter.next()\n",
    "images = images.cuda()\n",
    "labels = labels.cuda()\n",
    "outputs = model(Variable(images))\n",
    "_,predicted = torch.max(outputs.data,1)\n",
    "\n",
    "if labels == 0:\n",
    "    print('Image Label:L')\n",
    "if labels == 1:\n",
    "    print('Image Label:R')\n",
    "if labels == 2:\n",
    "    print('Image Label:S')\n",
    "if predicted == 0:\n",
    "    print('Predicted Label:L')\n",
    "if predicted == 1:\n",
    "    print('Predicted Label:R')\n",
    "if predicted == 2:\n",
    "    print('Predicted Label:S')\n",
    "\n",
    "imshow(torchvision.utils.make_grid(images))"
   ]
  },
  {
   "cell_type": "markdown",
   "metadata": {},
   "source": [
    "# Accuracy evaluation"
   ]
  },
  {
   "cell_type": "code",
   "execution_count": null,
   "metadata": {},
   "outputs": [],
   "source": [
    "print('Accuracy testing...')\n",
    "\n",
    "correct = 0\n",
    "total = 0\n",
    "for data in test_loader:\n",
    "    images, labels = data\n",
    "    images = images.cuda()\n",
    "    labels = labels.cuda()\n",
    "    with torch.no_grad():\n",
    "        outputs = model(Variable(images))\n",
    "        _,predicted = torch.max(outputs.data,1)\n",
    "    total += labels.size(0)\n",
    "    correct += (predicted == labels).sum()\n",
    "\n",
    "print('Accuracy of the network on the test images: %d %%' % (100 * correct / total))"
   ]
  }
 ],
 "metadata": {
  "kernelspec": {
   "display_name": "Python 3",
   "language": "python",
   "name": "python3"
  },
  "language_info": {
   "codemirror_mode": {
    "name": "ipython",
    "version": 3
   },
   "file_extension": ".py",
   "mimetype": "text/x-python",
   "name": "python",
   "nbconvert_exporter": "python",
   "pygments_lexer": "ipython3",
   "version": "3.6.9"
  }
 },
 "nbformat": 4,
 "nbformat_minor": 2
}
